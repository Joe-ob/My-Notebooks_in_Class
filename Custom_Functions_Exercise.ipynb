{
  "nbformat": 4,
  "nbformat_minor": 0,
  "metadata": {
    "colab": {
      "name": "Custom Functions Exercise",
      "provenance": [],
      "collapsed_sections": [],
      "include_colab_link": true
    },
    "kernelspec": {
      "name": "python3",
      "display_name": "Python 3"
    }
  },
  "cells": [
    {
      "cell_type": "markdown",
      "metadata": {
        "id": "view-in-github",
        "colab_type": "text"
      },
      "source": [
        "<a href=\"https://colab.research.google.com/github/Joe-ob/My-Notebooks_in_Class/blob/main/Custom_Functions_Exercise.ipynb\" target=\"_parent\"><img src=\"https://colab.research.google.com/assets/colab-badge.svg\" alt=\"Open In Colab\"/></a>"
      ]
    },
    {
      "cell_type": "markdown",
      "metadata": {
        "id": "m4OgF-WX0Fxo"
      },
      "source": [
        "# Prerequisites\n",
        "\n",
        "  + [Functions](https://github.com/prof-rossetti/intro-to-python/blob/master/notes/python/functions.md) \n"
      ]
    },
    {
      "cell_type": "markdown",
      "metadata": {
        "id": "S2WNuBjne_qG"
      },
      "source": [
        "\n",
        "# Instructions\n",
        "\n",
        "Make a copy of this notebook so you can edit and save your own version of it. Do the work in your copy of the notebook.\n",
        "\n"
      ]
    },
    {
      "cell_type": "markdown",
      "metadata": {
        "id": "Jjgzk-DvfCty"
      },
      "source": [
        "\n",
        "## Basic Requirements\n",
        "\n",
        "For each of the three challenges below, write a custom function to address the requirements. \n",
        "\n",
        "After writing a function in (and running) the first code cell, you should be able to then run the cell(s) immediately below which use some provided code to use or \"invoke\" the function. If you have defined the functions properly, the invocation cells should just work as-is.\n",
        "\n",
        "## Further Exploration Challenge\n",
        "\n",
        "Ideally also add a [\"docstring\"](https://github.com/prof-rossetti/intro-to-python/blob/master/notes/python/docstrings.md) to each function, to provide more information about the parameters it accepts, and the job it is expected to perform.\n"
      ]
    },
    {
      "cell_type": "markdown",
      "metadata": {
        "id": "mdOQuAFkfHTd"
      },
      "source": [
        "# Challenges"
      ]
    },
    {
      "cell_type": "markdown",
      "metadata": {
        "id": "zgeFDH0CR6cN"
      },
      "source": [
        "## 1) Motivation Function\n",
        "\n",
        "Define a custom function called `motivate()`, the responsibility of which is to print a motivational or inspirational textual message like \"Row harder, you can do it!\". The function doesn't need any parameter inputs or return values. It can display the same message every time."
      ]
    },
    {
      "cell_type": "code",
      "metadata": {
        "id": "ism3HbhJR6Hi"
      },
      "source": [
        "#\n",
        "# FUNCTION DEFINITION (todo: write python code here to define the function)\n",
        "#\n",
        "\n",
        "# HINT: use the \"def\" keyword to start the definition\n",
        "# ... it doesn't need any parameters\n",
        "# ... and it doesn't need to return anything.\n",
        "\n",
        "\n"
      ],
      "execution_count": null,
      "outputs": []
    },
    {
      "cell_type": "code",
      "metadata": {
        "colab": {
          "base_uri": "https://localhost:8080/",
          "height": 235
        },
        "id": "XWW1iycMR44V",
        "outputId": "d0d8725b-28cb-40c1-b8d1-a7f26851813a"
      },
      "source": [
        "#\n",
        "# FUNCTION INVOCATION (no need to edit this code - after defining the function it should just work)\n",
        "#\n",
        "\n",
        "motivate()\n",
        "motivate()\n",
        "motivate()\n",
        "motivate()\n"
      ],
      "execution_count": null,
      "outputs": [
        {
          "output_type": "error",
          "ename": "NameError",
          "evalue": "ignored",
          "traceback": [
            "\u001b[0;31m---------------------------------------------------------------------------\u001b[0m",
            "\u001b[0;31mNameError\u001b[0m                                 Traceback (most recent call last)",
            "\u001b[0;32m<ipython-input-2-1e2e443ad9ff>\u001b[0m in \u001b[0;36m<module>\u001b[0;34m()\u001b[0m\n\u001b[1;32m      3\u001b[0m \u001b[0;31m#\u001b[0m\u001b[0;34m\u001b[0m\u001b[0;34m\u001b[0m\u001b[0;34m\u001b[0m\u001b[0m\n\u001b[1;32m      4\u001b[0m \u001b[0;34m\u001b[0m\u001b[0m\n\u001b[0;32m----> 5\u001b[0;31m \u001b[0mmotivate\u001b[0m\u001b[0;34m(\u001b[0m\u001b[0;34m)\u001b[0m\u001b[0;34m\u001b[0m\u001b[0;34m\u001b[0m\u001b[0m\n\u001b[0m\u001b[1;32m      6\u001b[0m \u001b[0mmotivate\u001b[0m\u001b[0;34m(\u001b[0m\u001b[0;34m)\u001b[0m\u001b[0;34m\u001b[0m\u001b[0;34m\u001b[0m\u001b[0m\n\u001b[1;32m      7\u001b[0m \u001b[0mmotivate\u001b[0m\u001b[0;34m(\u001b[0m\u001b[0;34m)\u001b[0m\u001b[0;34m\u001b[0m\u001b[0;34m\u001b[0m\u001b[0m\n",
            "\u001b[0;31mNameError\u001b[0m: name 'motivate' is not defined"
          ]
        }
      ]
    },
    {
      "cell_type": "markdown",
      "metadata": {
        "id": "ElJb0gWG0uRT"
      },
      "source": [
        "\n",
        "## 2) Temperature Conversion Function\n",
        "\n",
        "Define a custom function called `celsius_to_fahrenheit()`, the responsibility of which is to convert a Celsius temperature (e.g. `0`) to a Fahrenheit temperature (e.g. `32`). Inside the function's definition, use a mathematical formula to convert the temperature and return the resulting value.\n"
      ]
    },
    {
      "cell_type": "code",
      "metadata": {
        "id": "Tb5YtYEb0DEg"
      },
      "source": [
        "#\n",
        "# FUNCTION DEFINITION (todo: write python code here to define the function)\n",
        "#\n",
        "\n",
        "# HINT: use the \"def\" keyword to start the definition\n",
        "# ... and make sure it accepts a parameter\n",
        "# ... and make sure it returns something.\n",
        "\n",
        "\n"
      ],
      "execution_count": null,
      "outputs": []
    },
    {
      "cell_type": "code",
      "metadata": {
        "id": "amIC-HNySmHc"
      },
      "source": [
        "#\n",
        "# FUNCTION INVOCATION (no need to edit this code - after defining the function it should just work)\n",
        "#\n",
        "\n",
        "# FYI: we can pass parameter values directly to the function\n",
        "\n",
        "print(celsius_to_fahrenheit(0))\n",
        "print(celsius_to_fahrenheit(10))\n",
        "print(celsius_to_fahrenheit(20))\n",
        "print(celsius_to_fahrenheit(30))\n",
        "print(celsius_to_fahrenheit(40))\n"
      ],
      "execution_count": null,
      "outputs": []
    },
    {
      "cell_type": "code",
      "metadata": {
        "id": "GkHyXDQgSoOx"
      },
      "source": [
        "#\n",
        "# FUNCTION INVOCATION (shouldn't need to edit this code at all - it should work after you define the function above)\n",
        "#\n",
        "\n",
        "# FYI: we can store the inputs in variables before passing them to the function\n",
        "# ... (and the variable names from outside the function don't need to match the function's internal parameter names).\n",
        "\n",
        "c = 0\n",
        "print(\"THE CELSIUS TEMP IS:\", c, \"DEGREES\")\n",
        "\n",
        "f = celsius_to_fahrenheit(c)\n",
        "print(\"THE FAHRENHEIT EQUIVALENT IS:\", f, \"DEGREES\")\n"
      ],
      "execution_count": null,
      "outputs": []
    },
    {
      "cell_type": "markdown",
      "metadata": {
        "id": "Xjb98FD21VIj"
      },
      "source": [
        "\n",
        "## 3) Letter Grade Conversion Function\n",
        "\n",
        "Define a custom function called `number_to_letter_grade()`, the responsibility of which is to convert a numeric grade (e.g. `87.5`) to a corresponding letter grade (e.g. `B+`). Inside the function's definition, use your own custom algorithm to convert the grade and return the resulting value.\n"
      ]
    },
    {
      "cell_type": "code",
      "metadata": {
        "id": "-PXqEqQMTDTJ"
      },
      "source": [
        "#\n",
        "# FUNCTION DEFINITION (todo: write python code here to define the function)\n",
        "#\n",
        "\n",
        "# HINT: use the \"def\" keyword to start the definition\n",
        "# ... and make sure it accepts a parameter\n",
        "# ... and make sure it returns something.\n",
        "\n",
        "\n"
      ],
      "execution_count": null,
      "outputs": []
    },
    {
      "cell_type": "code",
      "metadata": {
        "id": "JhGMl7eO1EOA"
      },
      "source": [
        "#\n",
        "# FUNCTION INVOCATION (shouldn't need to edit this code at all - it should work after you define the function above)\n",
        "#\n",
        "\n",
        "# FYI: we can store the inputs in variables before passing them to the function\n",
        "# ... (and the variable names from outside the function don't need to match the function's parameter names).\n",
        "\n",
        "print(numeric_to_letter_grade(100))\n",
        "print(numeric_to_letter_grade(95))\n",
        "print(numeric_to_letter_grade(85))\n",
        "print(numeric_to_letter_grade(75))\n",
        "print(numeric_to_letter_grade(50))"
      ],
      "execution_count": null,
      "outputs": []
    },
    {
      "cell_type": "code",
      "metadata": {
        "id": "7VNEWlSBS9I0"
      },
      "source": [
        "#\n",
        "# FUNCTION INVOCATION (shouldn't need to edit this code at all - it should work after you define the function above)\n",
        "#\n",
        "\n",
        "# FYI: we can store the inputs in variables before passing them to the function\n",
        "# ... (and the variable names from outside the function don't need to match the function's internal parameter names).\n",
        "\n",
        "score = 87.5\n",
        "print(\"THE NUMERIC SCORE IS:\", score)\n",
        "grade = numeric_to_letter_grade(score)\n",
        "print(\"THE LETTER-GRADE EQUIVALENT IS:\", grade)"
      ],
      "execution_count": null,
      "outputs": []
    }
  ]
}